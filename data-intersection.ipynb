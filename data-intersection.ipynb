{
 "cells": [
  {
   "cell_type": "markdown",
   "id": "9fdcdc3b",
   "metadata": {},
   "source": [
    "# IAWG Data Summary"
   ]
  },
  {
   "cell_type": "code",
   "execution_count": null,
   "id": "3ec722cf-068f-4470-8f07-fb3752094f9d",
   "metadata": {},
   "outputs": [],
   "source": [
    "# Download location\n",
    "from pathlib import Path\n",
    "\n",
    "data_path = Path('data')"
   ]
  },
  {
   "cell_type": "code",
   "execution_count": null,
   "id": "5579fcf5",
   "metadata": {},
   "outputs": [],
   "source": [
    "# Sync data from synapse\n",
    "import synapseclient \n",
    "import synapseutils \n",
    "import os\n",
    "\n",
    "syn = synapseclient.Synapse() \n",
    "syn.login(authToken=os.getenv('SYNAPSE_TOKEN'))\n",
    "files = synapseutils.syncFromSynapse(syn, 'syn68154892', path=data_path)"
   ]
  },
  {
   "cell_type": "code",
   "execution_count": null,
   "id": "c01b77c2",
   "metadata": {},
   "outputs": [],
   "source": [
    "# Load path map\n",
    "\n",
    "dfs_paths = {\n",
    "    f.stem: f\n",
    "    for f in (data_path / 'Variant data').iterdir()\n",
    "}"
   ]
  },
  {
   "cell_type": "code",
   "execution_count": null,
   "id": "034654de",
   "metadata": {},
   "outputs": [],
   "source": [
    "import pandas as pd\n",
    "\n",
    "# We'll manually map columns for now.\n",
    "\n",
    "# Common schemes:\n",
    "won_scheme = ('CHR', 'BP_HG38', 'A1', 'A2')\n",
    "shendure_scheme = ('chr', 'pos', 'A1', 'A2')\n",
    "\n",
    "col_map = {\n",
    "    'Won_CDMPRA_variantlist': won_scheme,\n",
    "    'Won_Nana_MPRA_variantlist': won_scheme,\n",
    "    'Won_SCZ_MPRA_variantlist': won_scheme,\n",
    "    'Won_ADD_MPRA_variantlist': won_scheme,\n",
    "    # 'Supplementary_Table_S3_cV2F_scores (1)' skip for now: only has rsid\n",
    "    # Gene-wide: 'encode_re2g_gold_standard_crispr_e2g_data': ('')\n",
    "    'Shendure_Ahituv_Kircher_cCRE_variants_Neuro_MPRA': shendure_scheme,\n",
    "    'Shendure_Ahituv_Kircher_cCRE_variants_UndiffWTC11_MPRA': shendure_scheme,\n",
    "    'IGVF_ColocBoost_Variant_Function_lipid_traits_liver': ('VariantChr', 'VariantStart', 'EffectAllele', 'OtherAllele'), # Note 0-based position\n",
    "    'igvf_y2ave_variantlist': ('chr', 'pos', 'a1', 'a2')\n",
    "}\n",
    "\n",
    "# Read file and map columns in function\n",
    "def get_df_variants(name):\n",
    "\n",
    "    (chrom, pos, a1, a2) = col_map[name]\n",
    "\n",
    "    df = (\n",
    "        pd\n",
    "        .read_table(\n",
    "            dfs_paths[name],\n",
    "            usecols=[chrom, pos, a1, a2]\n",
    "        )\n",
    "        .rename(\n",
    "            columns={\n",
    "                chrom: 'chr',\n",
    "                pos: 'pos',\n",
    "                a1: 'a1',\n",
    "                a2: 'a2'\n",
    "            }\n",
    "        )\n",
    "        .assign(\n",
    "            pos = lambda d: pd.to_numeric(d.pos, downcast='integer'),\n",
    "            a1 = lambda d: d.a1.str.upper(),\n",
    "            a2 = lambda d: d.a2.str.upper()\n",
    "        )\n",
    "        .drop_duplicates()\n",
    "    )\n",
    "    \n",
    "    # Manually move 0-based position to 1-based where needed\n",
    "    if name == 'IGVF_ColocBoost_Variant_Function_lipid_traits_liver':\n",
    "        df['pos'] = df['pos']+1\n",
    "\n",
    "    return df\n",
    "    "
   ]
  },
  {
   "cell_type": "code",
   "execution_count": null,
   "id": "d18fe5d1-e502-4db0-884b-756114152f2d",
   "metadata": {},
   "outputs": [],
   "source": [
    "from tqdm.notebook import tqdm"
   ]
  },
  {
   "cell_type": "code",
   "execution_count": null,
   "id": "99d93fd5",
   "metadata": {},
   "outputs": [],
   "source": [
    "# Normalized lists for upset\n",
    "normalized_series = {\n",
    "    dataset: pd.Series(\n",
    "        True,\n",
    "        index=pd.MultiIndex.from_frame(get_df_variants(dataset))\n",
    "    )\n",
    "    for dataset in tqdm(col_map)\n",
    "}"
   ]
  },
  {
   "cell_type": "code",
   "execution_count": null,
   "id": "84df0e0a",
   "metadata": {},
   "outputs": [],
   "source": [
    "# Get index for dataframe\n",
    "index_union = None\n",
    "for s in tqdm(normalized_series.values()):\n",
    "    if index_union is None:\n",
    "        index_union = s.index\n",
    "    else:\n",
    "        index_union = index_union.union(s.index)\n",
    "\n",
    "# Dataframe for upset\n",
    "variants_df = pd.DataFrame(index=index_union)\n",
    "for dataset, s in tqdm(normalized_series.items()):\n",
    "    variants_df[dataset] = s\n",
    "\n",
    "variants_df.fillna(False, inplace=True)"
   ]
  },
  {
   "cell_type": "code",
   "execution_count": null,
   "id": "400f20b7",
   "metadata": {},
   "outputs": [],
   "source": [
    "# Attach totals to dataset names\n",
    "col_rename_map = {\n",
    "    col_name: f'{col_name} ({variants_df[col_name].sum()})'\n",
    "    for col_name in variants_df.columns\n",
    "}\n",
    "\n",
    "# Count series\n",
    "variant_counts = variants_df.rename(columns=col_rename_map).value_counts()"
   ]
  },
  {
   "cell_type": "code",
   "execution_count": null,
   "id": "13accd65",
   "metadata": {},
   "outputs": [],
   "source": [
    "# Upset plot\n",
    "import upsetplot\n",
    "import matplotlib.pyplot as plt\n",
    "\n",
    "fig = plt.figure(layout='constrained')\n",
    "axs = upsetplot.plot(variant_counts, subset_size='sum', show_counts=True, totals_plot_elements=0, orientation='vertical', fig=fig)\n",
    "\n",
    "axs['intersections'].semilogx()"
   ]
  },
  {
   "cell_type": "code",
   "execution_count": null,
   "id": "bfa691e4",
   "metadata": {},
   "outputs": [],
   "source": []
  }
 ],
 "metadata": {
  "kernelspec": {
   "display_name": "Python 3 (ipykernel)",
   "language": "python",
   "name": "python3"
  },
  "language_info": {
   "codemirror_mode": {
    "name": "ipython",
    "version": 3
   },
   "file_extension": ".py",
   "mimetype": "text/x-python",
   "name": "python",
   "nbconvert_exporter": "python",
   "pygments_lexer": "ipython3",
   "version": "3.10.18"
  }
 },
 "nbformat": 4,
 "nbformat_minor": 5
}
