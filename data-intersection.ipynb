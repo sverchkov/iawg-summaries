{
 "cells": [
  {
   "cell_type": "markdown",
   "id": "9fdcdc3b",
   "metadata": {},
   "source": [
    "# IAWG Data Summary"
   ]
  },
  {
   "cell_type": "code",
   "execution_count": null,
   "id": "5579fcf5",
   "metadata": {},
   "outputs": [],
   "source": [
    "# Sync data from synapse\n",
    "import synapseclient \n",
    "import synapseutils \n",
    "import os\n",
    "\n",
    "syn = synapseclient.Synapse() \n",
    "syn.login(authToken=os.getenv('SYNAPSE_TOKEN'))\n",
    "files = synapseutils.syncFromSynapse(syn, 'syn68154892')"
   ]
  },
  {
   "cell_type": "code",
   "execution_count": null,
   "id": "c01b77c2",
   "metadata": {},
   "outputs": [],
   "source": [
    "# Load dataframes\n",
    "from pathlib import Path\n",
    "import pandas as pd\n",
    "\n",
    "dfs_paths = {\n",
    "    f.stem: f\n",
    "    for d1 in (Path.home() / '.synapseCache').iterdir()\n",
    "    for d2 in d1.iterdir()\n",
    "    for f in d2.iterdir()\n",
    "}"
   ]
  },
  {
   "cell_type": "code",
   "execution_count": null,
   "id": "034654de",
   "metadata": {},
   "outputs": [],
   "source": [
    "# We'll manually map columns for now.\n",
    "\n",
    "# Common schemes:\n",
    "won_scheme = ('CHR', 'BP_HG38', 'A1', 'A2')\n",
    "shendure_scheme = ('chr', 'pos', 'A1', 'A2')\n",
    "\n",
    "col_map = {\n",
    "    'Won_CDMPRA_variantlist': won_scheme,\n",
    "    'Won_Nana_MPRA_variantlist': won_scheme,\n",
    "    'Won_SCZ_MPRA_variantlist': won_scheme,\n",
    "    'Won_ADD_MPRA_variantlist': won_scheme,\n",
    "    # 'Supplementary_Table_S3_cV2F_scores (1)' skip for now: only has rsid\n",
    "    # Gene-wide: 'encode_re2g_gold_standard_crispr_e2g_data': ('')\n",
    "    'Shendure_Ahituv_Kircher_cCRE_variants_Neuro_MPRA': shendure_scheme,\n",
    "    'Shendure_Ahituv_Kircher_cCRE_variants_UndiffWTC11_MPRA': shendure_scheme,\n",
    "    'IGVF_ColocBoost_Variant_Function_lipid_traits_liver': ('VariantChr', 'VariantStart', 'EffectAllele', 'OtherAllele'), # Note 0-based position\n",
    "    'igvf_y2ave_variantlist': ('chr', 'pos', 'a1', 'a2')\n",
    "}\n",
    "\n",
    "# Read file and map columns in function\n",
    "def get_df_variants(name):\n",
    "\n",
    "    (chrom, pos, a1, a2) = col_map[name]\n",
    "\n",
    "    df = pd.read_table(dfs_paths[name], usecols=col_map[name]).rename(\n",
    "        columns={\n",
    "            chrom: 'chr',\n",
    "            pos: 'pos',\n",
    "            a1: 'a1',\n",
    "            a2: 'a2'\n",
    "        }\n",
    "    )\n",
    "    \n",
    "    # Manually move 0-based position to 1-based where needed\n",
    "    if name == 'IGVF_ColocBoost_Variant_Function_lipid_traits_liver':\n",
    "        df['pos'] = df['pos']+1\n",
    "\n",
    "    return df\n",
    "    "
   ]
  },
  {
   "cell_type": "code",
   "execution_count": null,
   "id": "99d93fd5",
   "metadata": {},
   "outputs": [],
   "source": [
    "# Normalized lists for upset\n",
    "normalized_series = {\n",
    "    dataset: pd.Series(\n",
    "        True,\n",
    "        index=pd.MultiIndex.from_frame(get_df_variants(dataset))\n",
    "    )\n",
    "    for dataset in col_map\n",
    "}"
   ]
  },
  {
   "cell_type": "code",
   "execution_count": null,
   "id": "84df0e0a",
   "metadata": {},
   "outputs": [],
   "source": [
    "# Get index for dataframe\n",
    "index_union = None\n",
    "for s in normalized_series.values():\n",
    "    if index_union is None:\n",
    "        index_union = s.index\n",
    "    else:\n",
    "        index_union = index_union.union(s.index)\n",
    "\n",
    "# Dataframe for upset\n",
    "variants_df = pd.DataFrame(index=index_union)\n",
    "for dataset, s in normalized_series.items():\n",
    "    variants_df[dataset] = s"
   ]
  },
  {
   "cell_type": "code",
   "execution_count": null,
   "id": "400f20b7",
   "metadata": {},
   "outputs": [],
   "source": [
    "#varlist_df = pd.DataFrame().join(\n",
    "#    normalized_dfs,\n",
    "#    how='outer'\n",
    "#).fillna(False)"
   ]
  },
  {
   "cell_type": "code",
   "execution_count": null,
   "id": "13accd65",
   "metadata": {},
   "outputs": [],
   "source": [
    "# Upset plot\n",
    "import upsetplot\n",
    "\n",
    "upsetplot.UpSet(varlist_df.value_counts(), subset_size='sum', show_counts=True)\n"
   ]
  },
  {
   "cell_type": "code",
   "execution_count": null,
   "id": "57288301",
   "metadata": {},
   "outputs": [],
   "source": [
    "# Normalized lists for position upset\n",
    "\n",
    "dfs['Supplementary_Table_S3_cV2F_scores (1)']['chr'] = dfs['Supplementary_Table_S3_cV2F_scores (1)']['CHR'].apply(lambda x: f'chr{x}')\n",
    "\n",
    "pos_col_map = {\n",
    "    'Won_CDMPRA_variantlist': won_scheme,\n",
    "    'Won_Nana_MPRA_variantlist': won_scheme,\n",
    "    'Won_SCZ_MPRA_variantlist': won_scheme,\n",
    "    'Won_ADD_MPRA_variantlist': won_scheme,\n",
    "    'Supplementary_Table_S3_cV2F_scores (1)': ('chr', 'BP', None, None),\n",
    "    # Gene-wide: 'encode_re2g_gold_standard_crispr_e2g_data': ('')\n",
    "    'Shendure_Ahituv_Kircher_cCRE_variants_Neuro_MPRA': shendure_scheme,\n",
    "    'Shendure_Ahituv_Kircher_cCRE_variants_UndiffWTC11_MPRA': shendure_scheme,\n",
    "    'IGVF_ColocBoost_Variant_Function_lipid_traits_liver': ('VariantChr', 'pos1based', 'EffectAllele', 'OtherAllele')\n",
    "}\n",
    "\n",
    "pos_normalized_dfs = [\n",
    "    dfs[dataset][[chrom, pos]].drop_duplicates().rename(\n",
    "        columns={\n",
    "            chrom: 'chr',\n",
    "            pos: 'pos'\n",
    "        }\n",
    "    ).assign(**{dataset: True}).set_index(['chr', 'pos'], drop=True)\n",
    "    for dataset, (chrom, pos, _, _) in pos_col_map.items()\n",
    "]"
   ]
  },
  {
   "cell_type": "code",
   "execution_count": null,
   "id": "4a1aef8f",
   "metadata": {},
   "outputs": [],
   "source": [
    "\n",
    "poslist_df = pd.DataFrame().join(\n",
    "    pos_normalized_dfs,\n",
    "    how='outer'\n",
    ").fillna(False)"
   ]
  },
  {
   "cell_type": "code",
   "execution_count": null,
   "id": "b58834a5",
   "metadata": {},
   "outputs": [],
   "source": [
    "poslist_df"
   ]
  },
  {
   "cell_type": "code",
   "execution_count": null,
   "id": "211729c1",
   "metadata": {},
   "outputs": [],
   "source": [
    "upsetplot.UpSet(poslist_df.value_counts(list(pos_col_map.keys())), show_counts=True, orientation='vertical')"
   ]
  },
  {
   "cell_type": "code",
   "execution_count": null,
   "id": "ed20de73",
   "metadata": {},
   "outputs": [],
   "source": [
    "# Build upset plot"
   ]
  },
  {
   "cell_type": "code",
   "execution_count": null,
   "id": "13980b92",
   "metadata": {},
   "outputs": [],
   "source": [
    "combined_df = pd.concat(\n",
    "    {\n",
    "        f.name: pd.read_table(f)\n",
    "        for f in Path().iterdir()\n",
    "    },\n",
    "    names=['Dataset']\n",
    ")"
   ]
  },
  {
   "cell_type": "markdown",
   "id": "600d9fb0",
   "metadata": {},
   "source": [
    "# Scratch space"
   ]
  },
  {
   "cell_type": "code",
   "execution_count": null,
   "id": "5a638b67",
   "metadata": {},
   "outputs": [],
   "source": [
    "dfs['Supplementary_Table_S3_cV2F_scores (1)']"
   ]
  },
  {
   "cell_type": "code",
   "execution_count": null,
   "id": "bfa691e4",
   "metadata": {},
   "outputs": [],
   "source": []
  }
 ],
 "metadata": {
  "kernelspec": {
   "display_name": "iawg",
   "language": "python",
   "name": "python3"
  },
  "language_info": {
   "codemirror_mode": {
    "name": "ipython",
    "version": 3
   },
   "file_extension": ".py",
   "mimetype": "text/x-python",
   "name": "python",
   "nbconvert_exporter": "python",
   "pygments_lexer": "ipython3",
   "version": "3.11.12"
  }
 },
 "nbformat": 4,
 "nbformat_minor": 5
}
